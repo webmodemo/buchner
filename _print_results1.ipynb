{
 "cells": [
  {
   "cell_type": "code",
   "execution_count": null,
   "metadata": {},
   "outputs": [],
   "source": [
    "# %load http://buchner.chem.hope.edu/~polik/cgi-bin/webmo/19.0/rest.cgi/templates/rest/_dump_results?jobNumber=16&username=student\n",
    "import requests\n",
    "from getpass import getpass\n",
    "import json\n",
    "\n",
    "#baseURL=\"http://buchner.chem.hope.edu//~polik/cgi-bin/webmo/19.0/rest.cgi\"\n",
    "#username=\"student\"\n",
    "#jobNumber=16\n",
    "\n",
    "baseURL=\"http://buchner.chem.hope.edu/~polik/cgi-bin/webmo/19.0/rest.cgi\"\n",
    "username=input('Enter WebMO username:')\n",
    "jobNumber=int(input('Enter WebMO job number:'))\n",
    "\n",    "print(\"Enter WebMO password:\")\n",
    "password=getpass()\n",
    "try:\n",
    "    #obtain a REST token\n",
    "    login={'username' : username, 'password' : password} #WebMO login information, used to retrieve a REST access token\n",
    "    r = requests.post(baseURL + \"/sessions\", data=login)\n",
    "    r.raise_for_status() #raise an exception if there is a problem with the request\n",
    "    auth=r.json() #include both 'username' and 'token' parameters needed to authenticate further REST requests\n",
    "    \n",
    "    #obtain results from the specified job number\n",
    "    r = requests.get(baseURL + \"/jobs/%d/results\" % jobNumber, params=auth)\n",
    "    r.raise_for_status() #raise an exception if there is a problem with the request\n",
    "    results=r.json()\n",
    "    \n",
    "    #read out the optimized geometry\n",
    "    geometry=results[\"geometry\"]\n",
    "    symbols=results[\"symbols\"]\n",
    "    properties=results[\"properties\"]\n",
    "    \n",
    "    #output the calculated properties\n",
    "    print(json.dumps(properties, indent=4))\n",
    "        \n",
    "    #End the REST session\n",
    "    r = requests.delete(baseURL + \"/sessions\", params=auth)\n",
    "    r.raise_for_status() #raise an exception if there is a problem with the request\n",
    "\n",
    "    \n",
    "#\n",
    "#Catch any HTTP / REST exceptions and log the underlying cause\n",
    "#\n",
    "except requests.exceptions.HTTPError:\n",
    "    if (r.ok):\n",
    "        print(\"Error during REST request: %s\" % r.json()[\"error\"])\n",
    "    else:\n",
    "        print(\"HTTP error: %s\" % r.reason)\n",
    "\n"
   ]
  }
 ],
 "metadata": {
  "kernelspec": {
   "display_name": "Python 3",
   "language": "python",
   "name": "python3"
  },
  "language_info": {
   "codemirror_mode": {
    "name": "ipython",
    "version": 3
   },
   "file_extension": ".py",
   "mimetype": "text/x-python",
   "name": "python",
   "nbconvert_exporter": "python",
   "pygments_lexer": "ipython3",
   "version": "3.7.0"
  }
 },
 "nbformat": 4,
 "nbformat_minor": 2
}
