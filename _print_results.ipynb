# %load http://buchner.chem.hope.edu/~polik/cgi-bin/webmo/19.0/rest.cgi/templates/rest/_dump_results?jobNumber=16&username=student
import requests
from getpass import getpass
import json

#baseURL="http://buchner.chem.hope.edu//~polik/cgi-bin/webmo/19.0/rest.cgi"
#username="student"
#jobNumber=16

baseURL="http://buchner.chem.hope.edu/~polik/cgi-bin/webmo/19.0/rest.cgi"
username=input('Enter WebMO username:')
jobNumber=int(input('Enter WebMO job number:'))

print("Enter WebMO password:")
password=getpass()
try:
    #obtain a REST token
    login={'username' : username, 'password' : password} #WebMO login information, used to retrieve a REST access token
    r = requests.post(baseURL + "/sessions", data=login)
    r.raise_for_status() #raise an exception if there is a problem with the request
    auth=r.json() #include both 'username' and 'token' parameters needed to authenticate further REST requests
    
    #obtain results from the specified job number
    r = requests.get(baseURL + "/jobs/%d/results" % jobNumber, params=auth)
    r.raise_for_status() #raise an exception if there is a problem with the request
    results=r.json()
    
    #read out the optimized geometry
    geometry=results["geometry"]
    symbols=results["symbols"]
    properties=results["properties"]
    
    #output the calculated properties
    print(json.dumps(properties, indent=4))
        
    #End the REST session
    r = requests.delete(baseURL + "/sessions", params=auth)
    r.raise_for_status() #raise an exception if there is a problem with the request

    
#
#Catch any HTTP / REST exceptions and log the underlying cause
#
except requests.exceptions.HTTPError:
    if (r.ok):
        print("Error during REST request: %s" % r.json()["error"])
    else:
        print("HTTP error: %s" % r.reason)


